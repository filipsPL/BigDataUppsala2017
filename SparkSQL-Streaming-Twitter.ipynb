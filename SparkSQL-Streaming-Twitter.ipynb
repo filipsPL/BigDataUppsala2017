{
 "cells": [
  {
   "cell_type": "code",
   "execution_count": null,
   "metadata": {
    "collapsed": true
   },
   "outputs": [],
   "source": [
    "from pyspark import SparkContext\n",
    "sc = SparkContext()"
   ]
  },
  {
   "cell_type": "code",
   "execution_count": null,
   "metadata": {
    "collapsed": true
   },
   "outputs": [],
   "source": [
    "from pyspark.streaming import StreamingContext\n",
    "# Create a local StreamingContext with batch interval of 4 second\n",
    "ssc = StreamingContext(sc, 4)\n",
    "ssc.checkpoint(\"StreamingTwitterCheckpoint\")  # required when we update an rdd\n",
    "# Create a DStream that will connect to hostname:port. Here, localhost:9019\n",
    "dataStream = ssc.socketTextStream(\"localhost\",9019)"
   ]
  },
  {
   "cell_type": "code",
   "execution_count": null,
   "metadata": {
    "collapsed": true
   },
   "outputs": [],
   "source": [
    "from pyspark.sql import SparkSession\n",
    "from pyspark import Row\n",
    "\n",
    "def aggregate_hashtags_count(new_counts, total_sum):\n",
    "    return sum(new_counts) + (total_sum or 0)\n",
    "\n",
    "\n",
    "# Lazily instantiated global instance of SparkSession\n",
    "def getSparkSessionInstance(sparkConf):\n",
    "    if (\"sparkSessionSingletonInstance\" not in globals()):\n",
    "        globals()[\"sparkSessionSingletonInstance\"] = SparkSession \\\n",
    "            .builder \\\n",
    "            .config(conf=sparkConf) \\\n",
    "            .getOrCreate()\n",
    "    return globals()[\"sparkSessionSingletonInstance\"]"
   ]
  },
  {
   "cell_type": "code",
   "execution_count": null,
   "metadata": {
    "collapsed": true
   },
   "outputs": [],
   "source": [
    "def processRDD(time, rdd):\n",
    "    print(\"===== %s =====\" % str(time))\n",
    "    # Get the singleton instance of SparkSession\n",
    "    spark = getSparkSessionInstance(rdd.context.getConf())\n",
    "\n",
    "    # Convert RDD[String] to RDD[Row]\n",
    "    row_rdd = rdd.map(lambda item: Row(hashtag=item[0], hashtag_count=item[1]))\n",
    "    # RDD[Row] to DataFrame\n",
    "    hashtags_df = spark.createDataFrame(row_rdd)\n",
    "    \n",
    "    # Back to the basics\n",
    "    hashtags_df.createOrReplaceTempView(\"hashtags\")\n",
    "    # get the top 10 hashtags from the table using SQL and print them\n",
    "    hashtag_counts_df = spark.sql(\"\")\n",
    "    hashtag_counts_df.show()"
   ]
  },
  {
   "cell_type": "code",
   "execution_count": null,
   "metadata": {},
   "outputs": [],
   "source": [
    "# split each tweet into words\n",
    "words = dataStream.flatMap(lambda line: line.split(\" \"))\n",
    "\n",
    "# filter the words to get only hashtags, then map each hashtag to be a pair of (hashtag,1)\n",
    "hashtags = words.filter(lambda word: '#' in word).map(lambda hashtag: (hashtag, 1))\n",
    "hashtags.pprint()\n",
    "\n",
    "# add the count of hashtag from each rdd to its previous count\n",
    "#tags_totals = hashtags.updateStateByKey(aggregate_hashtags_count)\n",
    "#tags_totals.pprint()\n",
    "\n",
    "# do processing for each RDD generated in each interval\n",
    "#tags_totals.foreachRDD(processRDD)"
   ]
  },
  {
   "cell_type": "code",
   "execution_count": null,
   "metadata": {},
   "outputs": [],
   "source": [
    "# start the streaming computation\n",
    "ssc.start()\n",
    "# wait for the streaming to finish\n",
    "ssc.awaitTermination()"
   ]
  },
  {
   "cell_type": "code",
   "execution_count": null,
   "metadata": {
    "collapsed": true
   },
   "outputs": [],
   "source": []
  }
 ],
 "metadata": {
  "kernelspec": {
   "display_name": "Python 3",
   "language": "python",
   "name": "python3"
  },
  "language_info": {
   "codemirror_mode": {
    "name": "ipython",
    "version": 3
   },
   "file_extension": ".py",
   "mimetype": "text/x-python",
   "name": "python",
   "nbconvert_exporter": "python",
   "pygments_lexer": "ipython3",
   "version": "3.6.2"
  }
 },
 "nbformat": 4,
 "nbformat_minor": 2
}
