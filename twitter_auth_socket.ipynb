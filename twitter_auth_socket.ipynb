{
 "cells": [
  {
   "cell_type": "code",
   "execution_count": null,
   "metadata": {},
   "outputs": [],
   "source": [
    "import socket\n",
    "import sys\n",
    "import requests\n",
    "import requests_oauthlib\n",
    "import json\n",
    "\n",
    "# Replace the values by your own values\n",
    "CONSUMER_KEY = ''\n",
    "CONSUMER_SECRET = ''\n",
    "ACCESS_TOKEN = ''\n",
    "ACCESS_TOKEN_SECRET = ''\n",
    "oauth = requests_oauthlib.OAuth1(CONSUMER_KEY, CONSUMER_SECRET,ACCESS_TOKEN, ACCESS_TOKEN_SECRET)"
   ]
  },
  {
   "cell_type": "code",
   "execution_count": null,
   "metadata": {},
   "outputs": [],
   "source": [
    "# Verify if all your credentials work, the response should be 200\n",
    "url = 'https://api.twitter.com/1.1/account/verify_credentials.json'\n",
    "requests.get(url, auth=oauth)"
   ]
  },
  {
   "cell_type": "code",
   "execution_count": null,
   "metadata": {},
   "outputs": [],
   "source": [
    "def tweets_to_socket(http_response, tcp_connection):\n",
    "    for tweet_line in http_response.iter_lines():\n",
    "        if tweet_line: # if new line comes by\n",
    "            decoded_tweet_line = tweet_line.decode('utf-8')  # from bytes to string\n",
    "            tweet = json.loads(decoded_tweet_line)  # load as json\n",
    "            if 'text' in tweet:  # look for text field\n",
    "                tweet_text = tweet['text']\n",
    "                print(tweet_text)\n",
    "                print (\"--x--\")\n",
    "                final_text = tweet_text + '\\n'\n",
    "                tcp_connection.send(final_text.encode())  # send bytes\n",
    "\n",
    "def fetch_tweets():\n",
    "    url = 'https://stream.twitter.com/1.1/statuses/filter.json'\n",
    "    # change the value for track\n",
    "    query_data = [('language', 'en'),('track','cricket')]\n",
    "    query_url = url + '?' + '&'.join([str(t[0]) + '=' + str(t[1]) for t in query_data])\n",
    "    response = requests.get(query_url, auth=oauth, stream=True)\n",
    "    # print(query_url, response)\n",
    "    return response\n",
    "\n",
    "\n",
    "TCP_IP = \"localhost\"\n",
    "TCP_PORT = 9019\n",
    "connection = None\n",
    "sock = socket.socket(socket.AF_INET, socket.SOCK_STREAM)\n",
    "sock.bind((TCP_IP, TCP_PORT))\n",
    "sock.listen(1)\n",
    "\n",
    "print(\"Awaiting connection via pySpark..\")\n",
    "connection, address = sock.accept()\n",
    "print(\"Connected via pySpark. Fetching tweets via stream now..\")\n",
    "response = fetch_tweets()\n",
    "tweets_to_socket(response,connection)"
   ]
  },
  {
   "cell_type": "markdown",
   "metadata": {},
   "source": [
    "#### Sample tweet looks like"
   ]
  },
  {
   "cell_type": "code",
   "execution_count": null,
   "metadata": {
    "collapsed": true
   },
   "outputs": [],
   "source": [
    "sample_tweet = b'{\"created_at\":\"Mon Sep 11 15:57:14 +0000 2017\",\"id\":907271825612263425,\"id_str\":\"907271825612263425\",\"text\":\"@evolutional__ you https:\\\\/\\\\/t.co\\\\/7X5jpY2tBY\",\"display_text_range\":[0,18],\"source\":\"\\\\u003ca href=\\\\\"http:\\\\/\\\\/twitter.com\\\\/download\\\\/iphone\\\\\" rel=\\\\\"nofollow\\\\\"\\\\u003eTwitter for iPhone\\\\u003c\\\\/a\\\\u003e\",\"truncated\":false,\"in_reply_to_status_id\":null,\"in_reply_to_status_id_str\":null,\"in_reply_to_user_id\":322995363,\"in_reply_to_user_id_str\":\"322995363\",\"in_reply_to_screen_name\":\"evolutional__\",\"user\":{\"id\":779136254,\"id_str\":\"779136254\",\"name\":\"Ellene Caba\",\"screen_name\":\"Indivisualiize\",\"location\":\"Perth Amboy, NJ\",\"url\":\"https:\\\\/\\\\/youtu.be\\\\/VvjfYkhPqxM\",\"description\":null,\"translator_type\":\"none\",\"protected\":false,\"verified\":false,\"followers_count\":257,\"friends_count\":242,\"listed_count\":0,\"favourites_count\":1115,\"statuses_count\":5168,\"created_at\":\"Fri Aug 24 23:28:55 +0000 2012\",\"utc_offset\":-14400,\"time_zone\":\"Eastern Time (US & Canada)\",\"geo_enabled\":true,\"lang\":\"en\",\"contributors_enabled\":false,\"is_translator\":false,\"profile_background_color\":\"C0DEED\",\"profile_background_image_url\":\"http:\\\\/\\\\/abs.twimg.com\\\\/images\\\\/themes\\\\/theme1\\\\/bg.png\",\"profile_background_image_url_https\":\"https:\\\\/\\\\/abs.twimg.com\\\\/images\\\\/themes\\\\/theme1\\\\/bg.png\",\"profile_background_tile\":false,\"profile_link_color\":\"1DA1F2\",\"profile_sidebar_border_color\":\"C0DEED\",\"profile_sidebar_fill_color\":\"DDEEF6\",\"profile_text_color\":\"333333\",\"profile_use_background_image\":true,\"profile_image_url\":\"http:\\\\/\\\\/pbs.twimg.com\\\\/profile_images\\\\/884612852459479040\\\\/gg4w33Bt_normal.jpg\",\"profile_image_url_https\":\"https:\\\\/\\\\/pbs.twimg.com\\\\/profile_images\\\\/884612852459479040\\\\/gg4w33Bt_normal.jpg\",\"profile_banner_url\":\"https:\\\\/\\\\/pbs.twimg.com\\\\/profile_banners\\\\/779136254\\\\/1477829764\",\"default_profile\":true,\"default_profile_image\":false,\"following\":null,\"follow_request_sent\":null,\"notifications\":null},\"geo\":null,\"coordinates\":null,\"place\":{\"id\":\"6813a7d84bf141d5\",\"url\":\"https:\\\\/\\\\/api.twitter.com\\\\/1.1\\\\/geo\\\\/id\\\\/6813a7d84bf141d5.json\",\"place_type\":\"city\",\"name\":\"Perth Amboy\",\"full_name\":\"Perth Amboy, NJ\",\"country_code\":\"US\",\"country\":\"United States\",\"bounding_box\":{\"type\":\"Polygon\",\"coordinates\":[[[-74.292392,40.499466],[-74.292392,40.543459],[-74.250015,40.543459],[-74.250015,40.499466]]]},\"attributes\":{}},\"contributors\":null,\"quoted_status_id\":907123611508412418,\"quoted_status_id_str\":\"907123611508412418\",\"quoted_status\":{\"created_at\":\"Mon Sep 11 06:08:17 +0000 2017\",\"id\":907123611508412418,\"id_str\":\"907123611508412418\",\"text\":\"50 DAYS TILL HALLOWEEN https:\\\\/\\\\/t.co\\\\/1fE9oVCNnW\",\"source\":\"\\\\u003ca href=\\\\\"http:\\\\/\\\\/twitter.com\\\\/download\\\\/iphone\\\\\" rel=\\\\\"nofollow\\\\\"\\\\u003eTwitter for iPhone\\\\u003c\\\\/a\\\\u003e\",\"truncated\":false,\"in_reply_to_status_id\":null,\"in_reply_to_status_id_str\":null,\"in_reply_to_user_id\":null,\"in_reply_to_user_id_str\":null,\"in_reply_to_screen_name\":null,\"user\":{\"id\":1187647735,\"id_str\":\"1187647735\",\"name\":\"Dory\",\"screen_name\":\"Dory\",\"location\":\"P. Sherman 42 Wallaby Way \",\"url\":null,\"description\":\"why be moody when u can shake dat booty *parody* *NOT the official Dory page, not affiliated with @disneypixar* *we own no content posted* dorytweetz@gmail.com\",\"translator_type\":\"none\",\"protected\":false,\"verified\":false,\"followers_count\":2307251,\"friends_count\":34,\"listed_count\":3618,\"favourites_count\":33260,\"statuses_count\":40549,\"created_at\":\"Sat Feb 16 22:19:22 +0000 2013\",\"utc_offset\":-14400,\"time_zone\":\"Eastern Time (US & Canada)\",\"geo_enabled\":true,\"lang\":\"en\",\"contributors_enabled\":false,\"is_translator\":false,\"profile_background_color\":\"4C79FF\",\"profile_background_image_url\":\"http:\\\\/\\\\/pbs.twimg.com\\\\/profile_background_images\\\\/792760857\\\\/eeda20bdd54f64440f08d2ba8926fdf8.jpeg\",\"profile_background_image_url_https\":\"https:\\\\/\\\\/pbs.twimg.com\\\\/profile_background_images\\\\/792760857\\\\/eeda20bdd54f64440f08d2ba8926fdf8.jpeg\",\"profile_background_tile\":true,\"profile_link_color\":\"3309DE\",\"profile_sidebar_border_color\":\"FFFFFF\",\"profile_sidebar_fill_color\":\"DDEEF6\",\"profile_text_color\":\"333333\",\"profile_use_background_image\":false,\"profile_image_url\":\"http:\\\\/\\\\/pbs.twimg.com\\\\/profile_images\\\\/681579053338394624\\\\/8UZsho0J_normal.jpg\",\"profile_image_url_https\":\"https:\\\\/\\\\/pbs.twimg.com\\\\/profile_images\\\\/681579053338394624\\\\/8UZsho0J_normal.jpg\",\"profile_banner_url\":\"https:\\\\/\\\\/pbs.twimg.com\\\\/profile_banners\\\\/1187647735\\\\/1466476388\",\"default_profile\":false,\"default_profile_image\":false,\"following\":null,\"follow_request_sent\":null,\"notifications\":null},\"geo\":null,\"coordinates\":null,\"place\":null,\"contributors\":null,\"is_quote_status\":false,\"quote_count\":67,\"reply_count\":26,\"retweet_count\":2366,\"favorite_count\":5358,\"entities\":{\"hashtags\":[],\"urls\":[],\"user_mentions\":[],\"symbols\":[],\"media\":[{\"id\":768262090196856832,\"id_str\":\"768262090196856832\",\"indices\":[23,46],\"media_url\":\"http:\\\\/\\\\/pbs.twimg.com\\\\/tweet_video_thumb\\\\/CqlqTPSVMAA5FOi.jpg\",\"media_url_https\":\"https:\\\\/\\\\/pbs.twimg.com\\\\/tweet_video_thumb\\\\/CqlqTPSVMAA5FOi.jpg\",\"url\":\"https:\\\\/\\\\/t.co\\\\/1fE9oVCNnW\",\"display_url\":\"pic.twitter.com\\\\/1fE9oVCNnW\",\"expanded_url\":\"https:\\\\/\\\\/twitter.com\\\\/FreddyAmazin\\\\/status\\\\/768262102762958853\\\\/photo\\\\/1\",\"type\":\"photo\",\"sizes\":{\"medium\":{\"w\":320,\"h\":240,\"resize\":\"fit\"},\"large\":{\"w\":320,\"h\":240,\"resize\":\"fit\"},\"thumb\":{\"w\":150,\"h\":150,\"resize\":\"crop\"},\"small\":{\"w\":320,\"h\":240,\"resize\":\"fit\"}},\"source_status_id\":768262102762958853,\"source_status_id_str\":\"768262102762958853\",\"source_user_id\":61003804,\"source_user_id_str\":\"61003804\"}]},\"extended_entities\":{\"media\":[{\"id\":768262090196856832,\"id_str\":\"768262090196856832\",\"indices\":[23,46],\"media_url\":\"http:\\\\/\\\\/pbs.twimg.com\\\\/tweet_video_thumb\\\\/CqlqTPSVMAA5FOi.jpg\",\"media_url_https\":\"https:\\\\/\\\\/pbs.twimg.com\\\\/tweet_video_thumb\\\\/CqlqTPSVMAA5FOi.jpg\",\"url\":\"https:\\\\/\\\\/t.co\\\\/1fE9oVCNnW\",\"display_url\":\"pic.twitter.com\\\\/1fE9oVCNnW\",\"expanded_url\":\"https:\\\\/\\\\/twitter.com\\\\/FreddyAmazin\\\\/status\\\\/768262102762958853\\\\/photo\\\\/1\",\"type\":\"animated_gif\",\"sizes\":{\"medium\":{\"w\":320,\"h\":240,\"resize\":\"fit\"},\"large\":{\"w\":320,\"h\":240,\"resize\":\"fit\"},\"thumb\":{\"w\":150,\"h\":150,\"resize\":\"crop\"},\"small\":{\"w\":320,\"h\":240,\"resize\":\"fit\"}},\"source_status_id\":768262102762958853,\"source_status_id_str\":\"768262102762958853\",\"source_user_id\":61003804,\"source_user_id_str\":\"61003804\",\"video_info\":{\"aspect_ratio\":[4,3],\"variants\":[{\"bitrate\":0,\"content_type\":\"video\\\\/mp4\",\"url\":\"https:\\\\/\\\\/video.twimg.com\\\\/tweet_video\\\\/CqlqTPSVMAA5FOi.mp4\"}]}}]},\"favorited\":false,\"retweeted\":false,\"possibly_sensitive\":false,\"filter_level\":\"low\",\"lang\":\"en\"},\"is_quote_status\":true,\"quote_count\":0,\"reply_count\":0,\"retweet_count\":0,\"favorite_count\":0,\"entities\":{\"hashtags\":[],\"urls\":[{\"url\":\"https:\\\\/\\\\/t.co\\\\/7X5jpY2tBY\",\"expanded_url\":\"https:\\\\/\\\\/twitter.com\\\\/dory\\\\/status\\\\/907123611508412418\",\"display_url\":\"twitter.com\\\\/dory\\\\/status\\\\/90\\\\u2026\",\"indices\":[19,42]}],\"user_mentions\":[{\"screen_name\":\"evolutional__\",\"name\":\"F\\\\ud83c\\\\udf37\",\"id\":322995363,\"id_str\":\"322995363\",\"indices\":[0,14]}],\"symbols\":[]},\"favorited\":false,\"retweeted\":false,\"possibly_sensitive\":false,\"filter_level\":\"low\",\"lang\":\"und\",\"timestamp_ms\":\"1505145434178\"}'"
   ]
  },
  {
   "cell_type": "code",
   "execution_count": null,
   "metadata": {},
   "outputs": [],
   "source": [
    "decoded_line = sample_tweet.decode('utf-8')\n",
    "tw = json.loads(decoded_line)\n",
    "twt = tw['text']"
   ]
  },
  {
   "cell_type": "code",
   "execution_count": null,
   "metadata": {},
   "outputs": [],
   "source": [
    "print(twt)"
   ]
  },
  {
   "cell_type": "code",
   "execution_count": null,
   "metadata": {},
   "outputs": [],
   "source": []
  },
  {
   "cell_type": "code",
   "execution_count": null,
   "metadata": {
    "collapsed": true
   },
   "outputs": [],
   "source": []
  }
 ],
 "metadata": {
  "kernelspec": {
   "display_name": "Python 3",
   "language": "python",
   "name": "python3"
  },
  "language_info": {
   "codemirror_mode": {
    "name": "ipython",
    "version": 3
   },
   "file_extension": ".py",
   "mimetype": "text/x-python",
   "name": "python",
   "nbconvert_exporter": "python",
   "pygments_lexer": "ipython3",
   "version": "3.6.2"
  }
 },
 "nbformat": 4,
 "nbformat_minor": 2
}
