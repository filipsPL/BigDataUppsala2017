{
 "cells": [
  {
   "cell_type": "code",
   "execution_count": 1,
   "metadata": {
    "collapsed": true
   },
   "outputs": [],
   "source": [
    "from pyspark.sql import SparkSession\n",
    "\n",
    "spark = SparkSession \\\n",
    "    .builder \\\n",
    "    .appName(\"Titanic SQL Example\") \\\n",
    "    .getOrCreate()"
   ]
  },
  {
   "cell_type": "markdown",
   "metadata": {},
   "source": [
    "### Read the data first"
   ]
  },
  {
   "cell_type": "code",
   "execution_count": 2,
   "metadata": {},
   "outputs": [
    {
     "data": {
      "text/plain": [
       "DataFrame[_c0: string, _c1: string, _c2: string, _c3: string, _c4: string, _c5: string]"
      ]
     },
     "execution_count": 2,
     "metadata": {},
     "output_type": "execute_result"
    }
   ],
   "source": [
    "spark.read.csv(\"data/Titanic_data.csv\")"
   ]
  },
  {
   "cell_type": "code",
   "execution_count": 3,
   "metadata": {},
   "outputs": [
    {
     "data": {
      "text/plain": [
       "DataFrame[id: int, PClass: string, Age: double, Gender: string, Survived: int, GenderCode: int]"
      ]
     },
     "execution_count": 3,
     "metadata": {},
     "output_type": "execute_result"
    }
   ],
   "source": [
    "t_raw_data = spark.read.csv(\"data/Titanic_data.csv\",header=True,inferSchema=True,)\n",
    "t_raw_data"
   ]
  },
  {
   "cell_type": "markdown",
   "metadata": {},
   "source": [
    "### Start exploring the data"
   ]
  },
  {
   "cell_type": "code",
   "execution_count": 4,
   "metadata": {},
   "outputs": [
    {
     "name": "stdout",
     "output_type": "stream",
     "text": [
      "+---+------+----+------+--------+----------+\n",
      "| id|PClass| Age|Gender|Survived|GenderCode|\n",
      "+---+------+----+------+--------+----------+\n",
      "|  1|   1st|29.0|female|       1|         1|\n",
      "|  2|   1st| 2.0|female|       0|         1|\n",
      "|  3|   1st|30.0|  male|       0|         0|\n",
      "|  4|   1st|25.0|female|       0|         1|\n",
      "|  5|   1st|0.92|  male|       1|         0|\n",
      "|  6|   1st|47.0|  male|       1|         0|\n",
      "|  7|   1st|63.0|female|       1|         1|\n",
      "|  8|   1st|39.0|  male|       0|         0|\n",
      "|  9|   1st|58.0|female|       1|         1|\n",
      "| 10|   1st|71.0|  male|       0|         0|\n",
      "| 11|   1st|47.0|  male|       0|         0|\n",
      "| 12|   1st|19.0|female|       1|         1|\n",
      "| 13|   1st| 0.0|female|       1|         1|\n",
      "| 14|   1st| 0.0|  male|       1|         0|\n",
      "| 15|   1st| 0.0|  male|       0|         0|\n",
      "| 16|   1st|50.0|female|       1|         1|\n",
      "| 17|   1st|24.0|  male|       0|         0|\n",
      "| 18|   1st|36.0|  male|       0|         0|\n",
      "| 19|   1st|37.0|  male|       1|         0|\n",
      "| 20|   1st|47.0|female|       1|         1|\n",
      "+---+------+----+------+--------+----------+\n",
      "only showing top 20 rows\n",
      "\n"
     ]
    }
   ],
   "source": [
    "# See how the data looks like\n",
    "t_raw_data.show()\n",
    "# Pclass: Passenger Class\n",
    "# Survived either 1 or 0\n",
    "# GenderCode 1 for female, 0 for male"
   ]
  },
  {
   "cell_type": "code",
   "execution_count": 5,
   "metadata": {},
   "outputs": [
    {
     "data": {
      "text/plain": [
       "1313"
      ]
     },
     "execution_count": 5,
     "metadata": {},
     "output_type": "execute_result"
    }
   ],
   "source": [
    "t_raw_data.count()"
   ]
  },
  {
   "cell_type": "code",
   "execution_count": 6,
   "metadata": {},
   "outputs": [
    {
     "name": "stdout",
     "output_type": "stream",
     "text": [
      "root\n",
      " |-- id: integer (nullable = true)\n",
      " |-- PClass: string (nullable = true)\n",
      " |-- Age: double (nullable = true)\n",
      " |-- Gender: string (nullable = true)\n",
      " |-- Survived: integer (nullable = true)\n",
      " |-- GenderCode: integer (nullable = true)\n",
      "\n"
     ]
    }
   ],
   "source": [
    "# Print the schema\n",
    "t_raw_data.printSchema()"
   ]
  },
  {
   "cell_type": "code",
   "execution_count": 7,
   "metadata": {},
   "outputs": [
    {
     "name": "stdout",
     "output_type": "stream",
     "text": [
      "+-------+-----------------+------+------------------+------+-------------------+-------------------+\n",
      "|summary|               id|PClass|               Age|Gender|           Survived|         GenderCode|\n",
      "+-------+-----------------+------+------------------+------+-------------------+-------------------+\n",
      "|  count|             1313|  1313|              1313|  1313|               1313|               1313|\n",
      "|   mean|            657.0|  null|17.502574257425742|  null| 0.3427265803503427| 0.3518659558263519|\n",
      "| stddev|379.1747618183468|  null| 18.51694476332819|  null|0.47480181908910607|0.47773437008438874|\n",
      "|    min|                1|     *|               0.0|female|                  0|                  0|\n",
      "|    max|             1313|   3rd|              71.0|  male|                  1|                  1|\n",
      "+-------+-----------------+------+------------------+------+-------------------+-------------------+\n",
      "\n"
     ]
    }
   ],
   "source": [
    "# Describe the data\n",
    "t_raw_data.describe().show()"
   ]
  },
  {
   "cell_type": "code",
   "execution_count": 8,
   "metadata": {},
   "outputs": [
    {
     "data": {
      "text/plain": [
       "DataFrame[id: int, Name: string]"
      ]
     },
     "execution_count": 8,
     "metadata": {},
     "output_type": "execute_result"
    }
   ],
   "source": [
    "t_names = spark.read.csv(\"data/Titanic_names.csv\",header=True,inferSchema=True,)\n",
    "t_names"
   ]
  },
  {
   "cell_type": "markdown",
   "metadata": {},
   "source": [
    "### Sanitize the data "
   ]
  },
  {
   "cell_type": "code",
   "execution_count": 13,
   "metadata": {},
   "outputs": [
    {
     "name": "stdout",
     "output_type": "stream",
     "text": [
      "+---+------+----+------+--------+----------+\n",
      "| id|PClass| Age|Gender|Survived|GenderCode|\n",
      "+---+------+----+------+--------+----------+\n",
      "|  1|   1st|29.0|female|       1|         1|\n",
      "|  2|   1st| 2.0|female|       0|         1|\n",
      "|  3|   1st|30.0|  male|       0|         0|\n",
      "|  4|   1st|25.0|female|       0|         1|\n",
      "|  5|   1st|0.92|  male|       1|         0|\n",
      "|  6|   1st|47.0|  male|       1|         0|\n",
      "|  7|   1st|63.0|female|       1|         1|\n",
      "|  8|   1st|39.0|  male|       0|         0|\n",
      "|  9|   1st|58.0|female|       1|         1|\n",
      "| 10|   1st|71.0|  male|       0|         0|\n",
      "| 11|   1st|47.0|  male|       0|         0|\n",
      "| 12|   1st|19.0|female|       1|         1|\n",
      "| 16|   1st|50.0|female|       1|         1|\n",
      "| 17|   1st|24.0|  male|       0|         0|\n",
      "| 18|   1st|36.0|  male|       0|         0|\n",
      "| 19|   1st|37.0|  male|       1|         0|\n",
      "| 20|   1st|47.0|female|       1|         1|\n",
      "| 21|   1st|26.0|  male|       1|         0|\n",
      "| 22|   1st|25.0|  male|       0|         0|\n",
      "| 23|   1st|25.0|  male|       1|         0|\n",
      "+---+------+----+------+--------+----------+\n",
      "only showing top 20 rows\n",
      "\n"
     ]
    }
   ],
   "source": [
    "# Try to remove the 0.0 from the age column\n",
    "t_data = t_raw_data.filter(t_raw_data['age'] >0)\n",
    "t_data.show()"
   ]
  },
  {
   "cell_type": "code",
   "execution_count": 14,
   "metadata": {},
   "outputs": [
    {
     "data": {
      "text/plain": [
       "756"
      ]
     },
     "execution_count": 14,
     "metadata": {},
     "output_type": "execute_result"
    }
   ],
   "source": [
    "t_data.count()"
   ]
  },
  {
   "cell_type": "code",
   "execution_count": 15,
   "metadata": {},
   "outputs": [
    {
     "name": "stdout",
     "output_type": "stream",
     "text": [
      "+-------+------------------+------+------------------+------+------------------+-------------------+\n",
      "|summary|                id|PClass|               Age|Gender|          Survived|         GenderCode|\n",
      "+-------+------------------+------+------------------+------+------------------+-------------------+\n",
      "|  count|               756|   756|               756|   756|               756|                756|\n",
      "|   mean| 520.5489417989418|  null|30.397989417989415|  null| 0.414021164021164|0.38095238095238093|\n",
      "| stddev|318.61611186598935|  null|14.259048710359023|  null|0.4928782551360203| 0.4859424028848232|\n",
      "|    min|                 1|   1st|              0.17|female|                 0|                  0|\n",
      "|    max|              1313|   3rd|              71.0|  male|                 1|                  1|\n",
      "+-------+------------------+------+------------------+------+------------------+-------------------+\n",
      "\n"
     ]
    }
   ],
   "source": [
    "t_data.describe().show()"
   ]
  },
  {
   "cell_type": "markdown",
   "metadata": {},
   "source": [
    "### Start SQL Queries on the dataframe"
   ]
  },
  {
   "cell_type": "code",
   "execution_count": 16,
   "metadata": {
    "collapsed": true
   },
   "outputs": [],
   "source": [
    "# Create a temporary view in order to use SQL queries\n",
    "t_data.createOrReplaceTempView('titanic_data')"
   ]
  },
  {
   "cell_type": "code",
   "execution_count": 17,
   "metadata": {},
   "outputs": [
    {
     "name": "stdout",
     "output_type": "stream",
     "text": [
      "+---+------+----+------+--------+----------+\n",
      "| id|PClass| Age|Gender|Survived|GenderCode|\n",
      "+---+------+----+------+--------+----------+\n",
      "|  1|   1st|29.0|female|       1|         1|\n",
      "|  5|   1st|0.92|  male|       1|         0|\n",
      "|  6|   1st|47.0|  male|       1|         0|\n",
      "|  7|   1st|63.0|female|       1|         1|\n",
      "|  9|   1st|58.0|female|       1|         1|\n",
      "| 12|   1st|19.0|female|       1|         1|\n",
      "| 16|   1st|50.0|female|       1|         1|\n",
      "| 19|   1st|37.0|  male|       1|         0|\n",
      "| 20|   1st|47.0|female|       1|         1|\n",
      "| 21|   1st|26.0|  male|       1|         0|\n",
      "| 23|   1st|25.0|  male|       1|         0|\n",
      "| 24|   1st|19.0|female|       1|         1|\n",
      "| 25|   1st|28.0|  male|       1|         0|\n",
      "| 27|   1st|39.0|  male|       1|         0|\n",
      "| 28|   1st|30.0|female|       1|         1|\n",
      "| 29|   1st|58.0|female|       1|         1|\n",
      "| 31|   1st|45.0|female|       1|         1|\n",
      "| 32|   1st|22.0|female|       1|         1|\n",
      "| 37|   1st|44.0|female|       1|         1|\n",
      "| 38|   1st|59.0|female|       1|         1|\n",
      "+---+------+----+------+--------+----------+\n",
      "only showing top 20 rows\n",
      "\n"
     ]
    },
    {
     "data": {
      "text/plain": [
       "313"
      ]
     },
     "execution_count": 17,
     "metadata": {},
     "output_type": "execute_result"
    }
   ],
   "source": [
    "# Show only survivors\n",
    "survivors = spark.sql(\"SELECT * FROM titanic_data WHERE survived = 1\")\n",
    "survivors.show()\n",
    "survivors.count()"
   ]
  },
  {
   "cell_type": "code",
   "execution_count": 19,
   "metadata": {},
   "outputs": [
    {
     "name": "stdout",
     "output_type": "stream",
     "text": [
      "+---+------+----+------+--------+----------+\n",
      "| id|PClass| Age|Gender|Survived|GenderCode|\n",
      "+---+------+----+------+--------+----------+\n",
      "|  1|   1st|29.0|female|       1|         1|\n",
      "|  7|   1st|63.0|female|       1|         1|\n",
      "|  9|   1st|58.0|female|       1|         1|\n",
      "| 12|   1st|19.0|female|       1|         1|\n",
      "| 16|   1st|50.0|female|       1|         1|\n",
      "| 20|   1st|47.0|female|       1|         1|\n",
      "| 24|   1st|19.0|female|       1|         1|\n",
      "| 28|   1st|30.0|female|       1|         1|\n",
      "| 29|   1st|58.0|female|       1|         1|\n",
      "| 31|   1st|45.0|female|       1|         1|\n",
      "| 32|   1st|22.0|female|       1|         1|\n",
      "| 37|   1st|44.0|female|       1|         1|\n",
      "| 38|   1st|59.0|female|       1|         1|\n",
      "| 39|   1st|60.0|female|       1|         1|\n",
      "| 42|   1st|53.0|female|       1|         1|\n",
      "| 43|   1st|58.0|female|       1|         1|\n",
      "| 49|   1st|36.0|female|       1|         1|\n",
      "| 50|   1st|14.0|female|       1|         1|\n",
      "| 57|   1st|47.0|female|       1|         1|\n",
      "| 59|   1st|31.0|female|       1|         1|\n",
      "+---+------+----+------+--------+----------+\n",
      "only showing top 20 rows\n",
      "\n"
     ]
    },
    {
     "data": {
      "text/plain": [
       "217"
      ]
     },
     "execution_count": 19,
     "metadata": {},
     "output_type": "execute_result"
    }
   ],
   "source": [
    "# Show only female survivors\n",
    "\n",
    "survivors = spark.sql(\"SELECT * FROM titanic_data WHERE survived = 1 and Gender='female'\")\n",
    "survivors.show()\n",
    "survivors.count()"
   ]
  },
  {
   "cell_type": "code",
   "execution_count": 27,
   "metadata": {},
   "outputs": [
    {
     "name": "stdout",
     "output_type": "stream",
     "text": [
      "+------+\n",
      "|pclass|\n",
      "+------+\n",
      "|   2nd|\n",
      "|   1st|\n",
      "|   3rd|\n",
      "+------+\n",
      "\n"
     ]
    }
   ],
   "source": [
    "# List different types of passenger classes\n",
    "\n",
    "survivors = spark.sql(\"SELECT DISTINCT(pclass) FROM titanic_data\")\n",
    "survivors.show()"
   ]
  },
  {
   "cell_type": "code",
   "execution_count": 32,
   "metadata": {},
   "outputs": [
    {
     "name": "stdout",
     "output_type": "stream",
     "text": [
      "+------+-------------+\n",
      "|pclass|count(pclass)|\n",
      "+------+-------------+\n",
      "|   2nd|          212|\n",
      "|   1st|          226|\n",
      "|   3rd|          318|\n",
      "+------+-------------+\n",
      "\n"
     ]
    }
   ],
   "source": [
    "survivors = spark.sql(\"SELECT pclass, count(pclass) FROM titanic_data GROUP BY pclass\")\n",
    "survivors.show()"
   ]
  },
  {
   "cell_type": "code",
   "execution_count": null,
   "metadata": {
    "collapsed": true
   },
   "outputs": [],
   "source": [
    "# List number of people in each passenger class"
   ]
  },
  {
   "cell_type": "code",
   "execution_count": null,
   "metadata": {
    "collapsed": true
   },
   "outputs": [],
   "source": [
    "# List number of survivors in each passenger class"
   ]
  },
  {
   "cell_type": "markdown",
   "metadata": {},
   "source": [
    "#### Using dataframe functions"
   ]
  },
  {
   "cell_type": "code",
   "execution_count": 33,
   "metadata": {},
   "outputs": [
    {
     "name": "stdout",
     "output_type": "stream",
     "text": [
      "+------+-----+\n",
      "|pclass|count|\n",
      "+------+-----+\n",
      "|   2nd|  119|\n",
      "|   1st|  193|\n",
      "|   3rd|  138|\n",
      "+------+-----+\n",
      "\n"
     ]
    }
   ],
   "source": [
    "# but use 't_raw_data' dataframe to compare with original data\n",
    "t_raw_data.filter(t_raw_data.Survived == 1).groupby(\"pclass\").count().show()"
   ]
  },
  {
   "cell_type": "code",
   "execution_count": 35,
   "metadata": {},
   "outputs": [
    {
     "ename": "NameError",
     "evalue": "name 'dfclass_counts' is not defined",
     "output_type": "error",
     "traceback": [
      "\u001b[0;31m---------------------------------------------------------------------------\u001b[0m",
      "\u001b[0;31mNameError\u001b[0m                                 Traceback (most recent call last)",
      "\u001b[0;32m<ipython-input-35-34c202b1ddc2>\u001b[0m in \u001b[0;36m<module>\u001b[0;34m()\u001b[0m\n\u001b[1;32m      1\u001b[0m \u001b[0;31m# display the list of number of people in each passenger class & list of number of survivors in each passenger class,\u001b[0m\u001b[0;34m\u001b[0m\u001b[0;34m\u001b[0m\u001b[0m\n\u001b[1;32m      2\u001b[0m \u001b[0;31m# as a single dataframe\u001b[0m\u001b[0;34m\u001b[0m\u001b[0;34m\u001b[0m\u001b[0m\n\u001b[0;32m----> 3\u001b[0;31m \u001b[0mdfclass_joined\u001b[0m \u001b[0;34m=\u001b[0m \u001b[0mdfclass_counts\u001b[0m\u001b[0;34m.\u001b[0m\u001b[0mjoin\u001b[0m\u001b[0;34m(\u001b[0m\u001b[0mdfclass_s_counts\u001b[0m\u001b[0;34m,\u001b[0m \u001b[0;34m\"pclass\"\u001b[0m\u001b[0;34m)\u001b[0m\u001b[0;34m\u001b[0m\u001b[0m\n\u001b[0m\u001b[1;32m      4\u001b[0m \u001b[0mdfclass_joined\u001b[0m\u001b[0;34m.\u001b[0m\u001b[0mshow\u001b[0m\u001b[0;34m(\u001b[0m\u001b[0;34m)\u001b[0m\u001b[0;34m\u001b[0m\u001b[0m\n",
      "\u001b[0;31mNameError\u001b[0m: name 'dfclass_counts' is not defined"
     ]
    }
   ],
   "source": [
    "# display the list of number of people in each passenger class & list of number of survivors in each passenger class,\n",
    "# as a single dataframe\n",
    "dfclass_joined = dfclass_counts.join(dfclass_s_counts, \"pclass\")\n",
    "dfclass_joined.show()"
   ]
  },
  {
   "cell_type": "code",
   "execution_count": null,
   "metadata": {
    "collapsed": true
   },
   "outputs": [],
   "source": [
    "dfclass_joined.select(\"pclass\", dfclass_joined[\"pclass_survived_count\"]/dfclass_joined[\"pclass_count\"]).show()"
   ]
  },
  {
   "cell_type": "markdown",
   "metadata": {},
   "source": [
    "#### Get the names"
   ]
  },
  {
   "cell_type": "code",
   "execution_count": 37,
   "metadata": {},
   "outputs": [
    {
     "name": "stdout",
     "output_type": "stream",
     "text": [
      "+---+--------------------+\n",
      "| id|                Name|\n",
      "+---+--------------------+\n",
      "|  1|Allen, Miss Elisa...|\n",
      "|  2|Allison, Miss Hel...|\n",
      "|  3|Allison, Mr Hudso...|\n",
      "|  4|Allison, Mrs Huds...|\n",
      "|  5|Allison, Master H...|\n",
      "|  6|  Anderson, Mr Harry|\n",
      "|  7|Andrews, Miss Kor...|\n",
      "|  8|Andrews, Mr Thoma...|\n",
      "|  9|Appleton, Mrs Edw...|\n",
      "| 10|Artagaveytia, Mr ...|\n",
      "| 11|Astor, Colonel Jo...|\n",
      "| 12|Astor, Mrs John J...|\n",
      "| 13|Aubert, Mrs Leont...|\n",
      "| 14|Barkworth, Mr Alg...|\n",
      "| 15|  Baumann, Mr John D|\n",
      "| 16|Baxter, Mrs James...|\n",
      "| 17|Baxter, Mr Quigg ...|\n",
      "| 18| Beattie, Mr Thomson|\n",
      "| 19|Beckwith, Mr Rich...|\n",
      "| 20|Beckwith, Mrs Ric...|\n",
      "+---+--------------------+\n",
      "only showing top 20 rows\n",
      "\n"
     ]
    }
   ],
   "source": [
    "t_names.createOrReplaceTempView(\"titanic_names\")\n",
    "t_names.show()"
   ]
  },
  {
   "cell_type": "code",
   "execution_count": 48,
   "metadata": {},
   "outputs": [
    {
     "name": "stdout",
     "output_type": "stream",
     "text": [
      "+--------------------+\n",
      "|                name|\n",
      "+--------------------+\n",
      "|Allison, Mr Hudso...|\n",
      "|  Anderson, Mr Harry|\n",
      "|Andrews, Mr Thoma...|\n",
      "|Artagaveytia, Mr ...|\n",
      "|Barkworth, Mr Alg...|\n",
      "|  Baumann, Mr John D|\n",
      "|Baxter, Mr Quigg ...|\n",
      "| Beattie, Mr Thomson|\n",
      "|Beckwith, Mr Rich...|\n",
      "|Behr, Mr Karl Howell|\n",
      "|  Birnbaum, Mr Jakob|\n",
      "|Bishop, Mr Dickin...|\n",
      "|Bjornstrm-Steffan...|\n",
      "|Blackwell, Mr Ste...|\n",
      "|     Blank, Mr Henry|\n",
      "|Borebank, Mr John...|\n",
      "|  Bradley, Mr George|\n",
      "|Brady, Mr John Be...|\n",
      "|   Brandeis, Mr Emil|\n",
      "|Calderhead, Mr Ed...|\n",
      "+--------------------+\n",
      "only showing top 20 rows\n",
      "\n"
     ]
    }
   ],
   "source": [
    "# Get the names of all males (IN)\n",
    "\n",
    "survivors = spark.sql(\"SELECT name FROM titanic_names where name like '%Mr %'\")\n",
    "survivors.show()\n"
   ]
  },
  {
   "cell_type": "code",
   "execution_count": null,
   "metadata": {
    "collapsed": true
   },
   "outputs": [],
   "source": [
    "# List people and their ages given their ages is more than the average age "
   ]
  },
  {
   "cell_type": "code",
   "execution_count": null,
   "metadata": {
    "collapsed": true,
    "scrolled": true
   },
   "outputs": [],
   "source": [
    "# Attach the names of people with the above result (use the id column to join)\n",
    "t_data_with_names = ...."
   ]
  },
  {
   "cell_type": "code",
   "execution_count": null,
   "metadata": {
    "collapsed": true
   },
   "outputs": [],
   "source": [
    "# Partition the data by columns\n",
    "t_data_with_names.write.partitionBy(\"gender\", \"survived\").parquet(\"data/titanic_part.parquet\")"
   ]
  },
  {
   "cell_type": "code",
   "execution_count": null,
   "metadata": {
    "collapsed": true
   },
   "outputs": [],
   "source": [
    "df_part = spark.read.parquet(\"data/titanic_part.parquet\")"
   ]
  },
  {
   "cell_type": "markdown",
   "metadata": {},
   "source": [
    "#### ----"
   ]
  },
  {
   "cell_type": "code",
   "execution_count": null,
   "metadata": {
    "collapsed": true
   },
   "outputs": [],
   "source": [
    "# show the age, age groups (counts) ordered by age\n"
   ]
  },
  {
   "cell_type": "code",
   "execution_count": null,
   "metadata": {
    "collapsed": true
   },
   "outputs": [],
   "source": [
    "# show the age, age groups (counts) ordered by age for different genders ordered by age\n"
   ]
  },
  {
   "cell_type": "code",
   "execution_count": null,
   "metadata": {
    "collapsed": true
   },
   "outputs": [],
   "source": [
    "# show the age, age groups (counts) ordered by age for different genders ordered by gender then age\n"
   ]
  },
  {
   "cell_type": "markdown",
   "metadata": {},
   "source": [
    "### Adding new records"
   ]
  },
  {
   "cell_type": "code",
   "execution_count": null,
   "metadata": {
    "collapsed": true
   },
   "outputs": [],
   "source": [
    "from pyspark import Row\n",
    "t_record_rdd = spark.sparkContext.parallelize([Row(id=0, Name=\"Jon Snow\", PClass=\"2nd\", Age=31.00, Gender=\"male\", Survived=1, GenderCode=0)])\n",
    "t_record_rdd.collect()"
   ]
  },
  {
   "cell_type": "code",
   "execution_count": null,
   "metadata": {
    "collapsed": true
   },
   "outputs": [],
   "source": [
    "t_record_df_unordered = t_record_rdd.toDF()\n",
    "t_record_df_unordered.show()\n",
    "t_record_df = t_record_df_unordered.select(\"id\", \"name\", \"pclass\", \"age\", \"gender\", \"survived\", \"gendercode\")\n",
    "t_record_df.show()"
   ]
  },
  {
   "cell_type": "code",
   "execution_count": null,
   "metadata": {
    "collapsed": true
   },
   "outputs": [],
   "source": [
    "# take a union of the above dataset with t_data_with_names"
   ]
  },
  {
   "cell_type": "code",
   "execution_count": null,
   "metadata": {
    "collapsed": true
   },
   "outputs": [],
   "source": []
  },
  {
   "cell_type": "code",
   "execution_count": null,
   "metadata": {
    "collapsed": true
   },
   "outputs": [],
   "source": []
  }
 ],
 "metadata": {
  "kernelspec": {
   "display_name": "Python 3",
   "language": "python",
   "name": "python3"
  },
  "language_info": {
   "codemirror_mode": {
    "name": "ipython",
    "version": 3
   },
   "file_extension": ".py",
   "mimetype": "text/x-python",
   "name": "python",
   "nbconvert_exporter": "python",
   "pygments_lexer": "ipython3",
   "version": "3.6.2"
  }
 },
 "nbformat": 4,
 "nbformat_minor": 2
}
